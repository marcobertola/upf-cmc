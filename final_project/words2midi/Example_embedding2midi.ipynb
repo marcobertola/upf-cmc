{
 "cells": [
  {
   "cell_type": "code",
   "execution_count": 38,
   "metadata": {},
   "outputs": [],
   "source": [
    "import numpy as np\n",
    "from gensim.models import KeyedVectors\n",
    "from itertools import repeat\n",
    "model_glove = KeyedVectors.load_word2vec_format('glove.6B.50d_word2vec.txt')"
   ]
  },
  {
   "cell_type": "code",
   "execution_count": 39,
   "metadata": {},
   "outputs": [],
   "source": [
    "def find_range(point, range_limits):\n",
    "    n_limits = len(range_limits)\n",
    "    for limit in range(n_limits - 1):\n",
    "        if (point > range_limits[limit]) and (point < range_limits[limit + 1]):\n",
    "            return limit\n",
    "    raise ValueError"
   ]
  },
  {
   "cell_type": "code",
   "execution_count": 75,
   "metadata": {},
   "outputs": [],
   "source": [
    "def colapse_into_10(space_50d):\n",
    "    ndim = space_50d.ndim\n",
    "    if ndim == 1:  # If a word embedding\n",
    "        space_10d = np.zeros(10)\n",
    "        for idx in range(10):\n",
    "            space_10d[idx] = np.sum(space_50d[idx*5:(idx+1)*5])\n",
    "    else:\n",
    "        space_10d = np.zeros([space_50d.shape[0], 10])\n",
    "        for idx in range(10):\n",
    "            space_10d[idx] = np.sum(space_50d[idx*5:(idx+1)*5],)\n",
    "    return space_10d"
   ]
  },
  {
   "cell_type": "code",
   "execution_count": 93,
   "metadata": {},
   "outputs": [],
   "source": [
    "def embspace_to_midi(word_embedding, n_words):\n",
    "    \"\"\"\n",
    "    word_embedding: The 50dim vector resulting of difference between multiple words embedding\n",
    "    n_words: Number of words used to create the word_embedding\n",
    "    \"\"\"\n",
    "    embedding = np.load('mappings.npy')\n",
    "    reduced_10 = colapse_into_10(embedding)\n",
    "    maxs = np.max(reduced_10, axis=0)*n_words\n",
    "    mins = np.min(reduced_10, axis=0)*n_words\n",
    "    steps = (maxs - mins) / 129\n",
    "    mappings = np.array(list((map(np.arange, mins, maxs, steps))))\n",
    "\n",
    "    reduced_embedding = colapse_into_10(word_embedding)\n",
    "    \n",
    "\n",
    "    \n",
    "    midi = np.zeros(10)\n",
    "    for dimension in range(10):\n",
    "        midi[dimension] = find_range(reduced_embedding[dimension], mappings[dimension])\n",
    "    return midi"
   ]
  },
  {
   "cell_type": "code",
   "execution_count": 94,
   "metadata": {},
   "outputs": [],
   "source": [
    "diffwords = model_glove['republican'] - model_glove['party']\n",
    "dist1 = embspace_to_midi(diffwords, 2)"
   ]
  },
  {
   "cell_type": "code",
   "execution_count": 99,
   "metadata": {},
   "outputs": [],
   "source": [
    "diffwords = model_glove['republican'] - model_glove['democratic']\n",
    "dist2 = embspace_to_midi(diffwords, 2)"
   ]
  },
  {
   "cell_type": "code",
   "execution_count": 100,
   "metadata": {},
   "outputs": [],
   "source": [
    "diffwords = model_glove['republican'] - model_glove['banana']\n",
    "dist3 = embspace_to_midi(diffwords, 2)"
   ]
  },
  {
   "cell_type": "code",
   "execution_count": 103,
   "metadata": {},
   "outputs": [],
   "source": [
    "diffwords = model_glove['republican'] - model_glove['avocado']\n",
    "dist4 = embspace_to_midi(diffwords, 2)"
   ]
  },
  {
   "cell_type": "code",
   "execution_count": 104,
   "metadata": {},
   "outputs": [
    {
     "name": "stdout",
     "output_type": "stream",
     "text": [
      "7190.0\n",
      "8105.0\n",
      "5477.0\n",
      "5260.0\n"
     ]
    }
   ],
   "source": [
    "print(np.sum((dist1)**2))\n",
    "print(np.sum((dist2)**2))\n",
    "print(np.sum((dist3)**2))\n",
    "print(np.sum((dist4)**2))\n"
   ]
  },
  {
   "cell_type": "code",
   "execution_count": 105,
   "metadata": {},
   "outputs": [
    {
     "name": "stdout",
     "output_type": "stream",
     "text": [
      "[28. 27. 19. 23. 20. 31. 22. 22. 33. 37.]\n",
      "[28. 27. 28. 22. 26. 28. 30. 28. 34. 32.]\n",
      "[32. 18.  6. 23. 27. 12. 19. 23. 24. 35.]\n",
      "[32. 22. 11. 25. 32. 10. 23. 13. 28. 20.]\n"
     ]
    }
   ],
   "source": [
    "print(dist1)\n",
    "print(dist2)\n",
    "print(dist3)\n",
    "print(dist4)"
   ]
  }
 ],
 "metadata": {
  "kernelspec": {
   "display_name": "Python 3",
   "language": "python",
   "name": "python3"
  },
  "language_info": {
   "codemirror_mode": {
    "name": "ipython",
    "version": 3
   },
   "file_extension": ".py",
   "mimetype": "text/x-python",
   "name": "python",
   "nbconvert_exporter": "python",
   "pygments_lexer": "ipython3",
   "version": "3.7.1"
  },
  "varInspector": {
   "cols": {
    "lenName": 16,
    "lenType": 16,
    "lenVar": 40
   },
   "kernels_config": {
    "python": {
     "delete_cmd_postfix": "",
     "delete_cmd_prefix": "del ",
     "library": "var_list.py",
     "varRefreshCmd": "print(var_dic_list())"
    },
    "r": {
     "delete_cmd_postfix": ") ",
     "delete_cmd_prefix": "rm(",
     "library": "var_list.r",
     "varRefreshCmd": "cat(var_dic_list()) "
    }
   },
   "types_to_exclude": [
    "module",
    "function",
    "builtin_function_or_method",
    "instance",
    "_Feature"
   ],
   "window_display": false
  }
 },
 "nbformat": 4,
 "nbformat_minor": 2
}
